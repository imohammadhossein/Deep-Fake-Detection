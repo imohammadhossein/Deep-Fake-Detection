{
 "cells": [
  {
   "cell_type": "code",
   "execution_count": 0,
   "metadata": {
    "colab": {},
    "colab_type": "code",
    "id": "vJ1KxRPqo9WT"
   },
   "outputs": [],
   "source": [
    "import os\n",
    "import cv2\n",
    "import json\n",
    "import tensorflow as tf\n",
    "import numpy as np\n",
    "import matplotlib.pyplot as plt\n",
    "import seaborn as sn\n",
    "import pandas as pd\n",
    "from tensorflow.keras.preprocessing.image import ImageDataGenerator, img_to_array, load_img\n",
    "from tensorflow.keras.utils import to_categorical\n",
    "from sklearn.model_selection import train_test_split\n",
    "from sklearn.metrics import confusion_matrix\n",
    "from imutils import paths\n"
   ]
  },
  {
   "cell_type": "code",
   "execution_count": 0,
   "metadata": {
    "colab": {
     "base_uri": "https://localhost:8080/",
     "height": 85
    },
    "colab_type": "code",
    "executionInfo": {
     "elapsed": 8374,
     "status": "ok",
     "timestamp": 1585376918507,
     "user": {
      "displayName": "MohammadHosein NikiMaleki",
      "photoUrl": "",
      "userId": "16008424146546408962"
     },
     "user_tz": -270
    },
    "id": "irOG6Qgz9pst",
    "outputId": "95957762-80af-40cc-e4be-26cfc096397c"
   },
   "outputs": [
    {
     "name": "stdout",
     "output_type": "stream",
     "text": [
      "Found 149553 images belonging to 2 classes.\n",
      "Found 18691 images belonging to 2 classes.\n",
      "Found 18705 images belonging to 2 classes.\n",
      "{'FAKE': 0, 'REAL': 1}\n"
     ]
    }
   ],
   "source": [
    "input_shape = (299, 299, 3)\n",
    "BATCH_SIZE = 32\n",
    "\n",
    "trainPath = os.path.sep.join(['dataset/dfdc' ,\"training\"])\n",
    "valPath = os.path.sep.join(['dataset/dfdc' ,\"validation\"])\n",
    "testPath = os.path.sep.join(['dataset/dfdc', \"evaluation\"])\n",
    "\n",
    "# determine the total number of image paths in training, validation,\n",
    "# and testing directories\n",
    "totalTrain = len(list(paths.list_images(trainPath)))\n",
    "totalVal = len(list(paths.list_images(valPath)))\n",
    "totalTest = len(list(paths.list_images(testPath)))\n",
    "\n",
    "# initialize the training data augmentation object\n",
    "trainAug = ImageDataGenerator(\n",
    "\trotation_range=3,\n",
    "\tzoom_range=0.05,\n",
    "\twidth_shift_range=0.1,\n",
    "\theight_shift_range=0.1,\n",
    "\tshear_range=0.05,\n",
    "\thorizontal_flip=False,\n",
    "\tfill_mode=\"nearest\")\n",
    "\n",
    "# initialize the validation/testing data augmentation object (which\n",
    "# we'll be adding mean subtraction to)\n",
    "valAug = ImageDataGenerator()\n",
    "\n",
    "# define the ImageNet mean subtraction (in RGB order) and set the\n",
    "# the mean subtraction value for each of the data augmentation\n",
    "# objects\n",
    "mean = np.array([123.68, 116.779, 103.939], dtype=\"float32\")\n",
    "trainAug.mean = mean\n",
    "valAug.mean = mean\n",
    "\n",
    "# def to prevent from bad input images\n",
    "def my_gen(gen):\n",
    "  i = 0\n",
    "  while True:\n",
    "    try:\n",
    "        data, labels = next(gen)\n",
    "        yield data, labels\n",
    "    except:\n",
    "        print(i)\n",
    "        i += 1\n",
    "        pass\n",
    "\n",
    "\n",
    "# initialize the training generator\n",
    "trainGen = trainAug.flow_from_directory(\n",
    "\ttrainPath,\n",
    "\tclass_mode=\"binary\",\n",
    "\ttarget_size=(299, 299),\n",
    "\tcolor_mode=\"rgb\",\n",
    "\tshuffle=True,\n",
    "\tbatch_size=BATCH_SIZE)\n",
    "\n",
    "# initialize the validation generator\n",
    "valGen = valAug.flow_from_directory(\n",
    "\tvalPath,\n",
    "\tclass_mode=\"binary\",\n",
    "\ttarget_size=(299, 299),\n",
    "\tcolor_mode=\"rgb\",\n",
    "\tshuffle=False,\n",
    "\tbatch_size=BATCH_SIZE)\n",
    "\n",
    "# initialize the testing generator\n",
    "testGen = valAug.flow_from_directory(\n",
    "\ttestPath,\n",
    "\tclass_mode=\"binary\",\n",
    "\ttarget_size=(299, 299),\n",
    "\tcolor_mode=\"rgb\",\n",
    "\tshuffle=False,\n",
    "\tbatch_size=BATCH_SIZE)\n",
    "\n",
    "labels = (trainGen.class_indices)\n",
    "print(labels)"
   ]
  },
  {
   "cell_type": "code",
   "execution_count": 0,
   "metadata": {
    "colab": {
     "base_uri": "https://localhost:8080/",
     "height": 255
    },
    "colab_type": "code",
    "executionInfo": {
     "elapsed": 42111,
     "status": "ok",
     "timestamp": 1585376956590,
     "user": {
      "displayName": "MohammadHosein NikiMaleki",
      "photoUrl": "",
      "userId": "16008424146546408962"
     },
     "user_tz": -270
    },
    "id": "tjyCiG5A-D_W",
    "outputId": "07f27525-af92-4d28-fefa-7cfd1e23e207"
   },
   "outputs": [
    {
     "name": "stdout",
     "output_type": "stream",
     "text": [
      "Model: \"sequential_1\"\n",
      "_________________________________________________________________\n",
      "Layer (type)                 Output Shape              Param #   \n",
      "=================================================================\n",
      "inception_resnet_v2 (Model)  (None, 8, 8, 1536)        54336736  \n",
      "_________________________________________________________________\n",
      "global_average_pooling2d_1 ( (None, 1536)              0         \n",
      "_________________________________________________________________\n",
      "dense_1 (Dense)              (None, 1)                 1537      \n",
      "=================================================================\n",
      "Total params: 54,338,273\n",
      "Trainable params: 54,277,729\n",
      "Non-trainable params: 60,544\n",
      "_________________________________________________________________\n"
     ]
    }
   ],
   "source": [
    "from tensorflow.keras.applications import InceptionResNetV2\n",
    "from tensorflow.keras.layers import Conv2D\n",
    "from tensorflow.keras.layers import MaxPooling2D\n",
    "from tensorflow.keras.layers import Flatten\n",
    "from tensorflow.keras.layers import Dense\n",
    "from tensorflow.keras.layers import Dropout\n",
    "from tensorflow.keras.layers import InputLayer\n",
    "from tensorflow.keras.layers import GlobalAveragePooling2D\n",
    "from tensorflow.keras.models import Sequential\n",
    "from tensorflow.keras.models import Model\n",
    "from tensorflow.keras import optimizers\n",
    "# from keras.callbacks import ModelCheckpoint\n",
    "from tensorflow.keras.callbacks import ReduceLROnPlateau, EarlyStopping, ModelCheckpoint\n",
    "\n",
    "# googleNet_model = InceptionResNetV2(include_top=False, weights='imagenet', input_shape=input_shape)\n",
    "\n",
    "\n",
    "hidden_dim = 256\n",
    "hidden_dim1 = 128\n",
    "googleNet_model = InceptionResNetV2( include_top=False, weights='imagenet', input_shape=(299, 299, 3))\n",
    "\n",
    "# version 1\n",
    "# last_layer = googleNet_model.get_layer('conv_7b_ac').output\n",
    "# x = Flatten(name='flatten')(last_layer)\n",
    "# x = Dense(hidden_dim, activation='relu', name='fc6')(x)\n",
    "# x = Dense(hidden_dim1, activation='relu', name='fc7')(x)\n",
    "# x = Dropout(0.2)(x)\n",
    "# out = Dense(1, activation='sigmoid', name='fc8')(x)\n",
    "# custom_googleNet_model = Model(googleNet_model.input, out)\n",
    "\n",
    "# for layer in googleNet_model.layers:\n",
    "# \tlayer.trainable = False\n",
    "# for layer in googleNet_model.layers[45:]:\n",
    "# \tlayer.trainable = True\n",
    "\n",
    "#version 2\n",
    "googleNet_model.trainable = True\n",
    "custom_googleNet_model = Sequential()\n",
    "custom_googleNet_model.add(googleNet_model)\n",
    "custom_googleNet_model.add(GlobalAveragePooling2D())\n",
    "custom_googleNet_model.add(Dense(units=1, activation='sigmoid'))\n",
    "\n",
    "\n",
    "custom_googleNet_model.compile(loss='binary_crossentropy',\n",
    "              optimizer=optimizers.Adam(lr=1e-5, beta_1=0.9, beta_2=0.999, epsilon=None, decay=0.001, amsgrad=False),\n",
    "              metrics=['accuracy'])\n",
    "custom_googleNet_model.summary()"
   ]
  },
  {
   "cell_type": "code",
   "execution_count": 0,
   "metadata": {
    "colab": {
     "base_uri": "https://localhost:8080/",
     "height": 1000
    },
    "colab_type": "code",
    "executionInfo": {
     "elapsed": 297976,
     "status": "error",
     "timestamp": 1585358516634,
     "user": {
      "displayName": "MohammadHosein NikiMaleki",
      "photoUrl": "",
      "userId": "16008424146546408962"
     },
     "user_tz": -270
    },
    "id": "11YEvZ2a-tzD",
    "outputId": "3add25bc-e93f-4a3f-8039-5928e6180263"
   },
   "outputs": [
    {
     "name": "stdout",
     "output_type": "stream",
     "text": [
      "Epoch 1/25\n",
      " 583/4673 [==>...........................] - ETA: 55:38 - loss: 0.5849 - acc: 0.67820\n",
      "3432/4673 [=====================>........] - ETA: 15:02 - loss: 0.4015 - acc: 0.80591\n",
      "4368/4673 [===========================>..] - ETA: 3:40 - loss: 0.3804 - acc: 0.81822\n",
      "4672/4673 [============================>.] - ETA: 0s - loss: 0.3752 - acc: 0.8214Epoch 1/25\n",
      " 584/4673 [==>...........................] - ETA: 15:21 - loss: 0.2830 - acc: 0.8719\n",
      "Epoch 00001: loss improved from inf to 0.37513, saving model to drive/My Drive/inception_resnet_f.model\n",
      "4673/4673 [==============================] - 3530s 755ms/step - loss: 0.3751 - acc: 0.8214 - val_loss: 0.2830 - val_acc: 0.8719\n",
      "Epoch 2/25\n",
      " 564/4673 [==>...........................] - ETA: 48:33 - loss: 0.2697 - acc: 0.87983\n",
      " 746/4673 [===>..........................] - ETA: 46:26 - loss: 0.2689 - acc: 0.88154\n",
      "4036/4673 [========================>.....] - ETA: 7:31 - loss: 0.2608 - acc: 0.88495\n",
      "4672/4673 [============================>.] - ETA: 0s - loss: 0.2596 - acc: 0.8859Epoch 1/25\n",
      " 584/4673 [==>...........................] - ETA: 14:33 - loss: 0.2476 - acc: 0.8881\n",
      "Epoch 00002: loss improved from 0.37513 to 0.25957, saving model to drive/My Drive/inception_resnet_f.model\n",
      "4673/4673 [==============================] - 3444s 737ms/step - loss: 0.2596 - acc: 0.8859 - val_loss: 0.2476 - val_acc: 0.8881\n",
      "Epoch 3/25\n",
      " 703/4673 [===>..........................] - ETA: 46:58 - loss: 0.2331 - acc: 0.90126\n",
      "1423/4673 [========>.....................] - ETA: 38:24 - loss: 0.2352 - acc: 0.89957\n",
      "1720/4673 [==========>...................] - ETA: 34:54 - loss: 0.2346 - acc: 0.89968\n",
      "4672/4673 [============================>.] - ETA: 0s - loss: 0.2318 - acc: 0.8998Epoch 1/25\n",
      " 584/4673 [==>...........................] - ETA: 14:29 - loss: 0.2418 - acc: 0.8915\n",
      "Epoch 00003: loss improved from 0.25957 to 0.23172, saving model to drive/My Drive/inception_resnet_f.model\n",
      "4673/4673 [==============================] - 3451s 739ms/step - loss: 0.2317 - acc: 0.8998 - val_loss: 0.2418 - val_acc: 0.8915\n",
      "Epoch 4/25\n",
      "1813/4673 [==========>...................] - ETA: 33:56 - loss: 0.2187 - acc: 0.90609\n",
      "2556/4673 [===============>..............] - ETA: 25:06 - loss: 0.2191 - acc: 0.905810\n",
      "4041/4673 [========================>.....] - ETA: 7:29 - loss: 0.2172 - acc: 0.906711\n",
      "4672/4673 [============================>.] - ETA: 0s - loss: 0.2171 - acc: 0.9066Epoch 1/25\n",
      " 584/4673 [==>...........................] - ETA: 14:28 - loss: 0.2332 - acc: 0.8949\n",
      "Epoch 00004: loss improved from 0.23172 to 0.21710, saving model to drive/My Drive/inception_resnet_f.model\n",
      "4673/4673 [==============================] - 3455s 739ms/step - loss: 0.2171 - acc: 0.9066 - val_loss: 0.2332 - val_acc: 0.8949\n",
      "Epoch 5/25\n",
      "1191/4673 [======>.......................] - ETA: 41:15 - loss: 0.2083 - acc: 0.911612\n",
      "3933/4673 [========================>.....] - ETA: 8:46 - loss: 0.2078 - acc: 0.910213\n",
      "4009/4673 [========================>.....] - ETA: 7:52 - loss: 0.2076 - acc: 0.910314\n",
      "4672/4673 [============================>.] - ETA: 0s - loss: 0.2077 - acc: 0.9103Epoch 1/25\n",
      " 584/4673 [==>...........................] - ETA: 14:26 - loss: 0.2265 - acc: 0.8978\n",
      "Epoch 00005: loss improved from 0.21710 to 0.20771, saving model to drive/My Drive/inception_resnet_f.model\n",
      "4673/4673 [==============================] - 3455s 739ms/step - loss: 0.2077 - acc: 0.9103 - val_loss: 0.2265 - val_acc: 0.8978\n",
      "Epoch 6/25\n",
      " 456/4673 [=>............................] - ETA: 49:42 - loss: 0.2107 - acc: 0.908315\n",
      "2314/4673 [=============>................] - ETA: 27:55 - loss: 0.2009 - acc: 0.914316\n",
      "3855/4673 [=======================>......] - ETA: 9:41 - loss: 0.2003 - acc: 0.914117\n",
      "4672/4673 [============================>.] - ETA: 0s - loss: 0.1993 - acc: 0.9146Epoch 1/25\n",
      " 584/4673 [==>...........................] - ETA: 14:27 - loss: 0.2271 - acc: 0.8993\n",
      "Epoch 00006: loss improved from 0.20771 to 0.19929, saving model to drive/My Drive/inception_resnet_f.model\n",
      "4673/4673 [==============================] - 3459s 740ms/step - loss: 0.1993 - acc: 0.9146 - val_loss: 0.2271 - val_acc: 0.8993\n",
      "Epoch 7/25\n",
      " 483/4673 [==>...........................] - ETA: 49:29 - loss: 0.1993 - acc: 0.915418\n",
      "2392/4673 [==============>...............] - ETA: 27:04 - loss: 0.1939 - acc: 0.917319\n",
      "3965/4673 [========================>.....] - ETA: 8:24 - loss: 0.1939 - acc: 0.917620\n",
      "4672/4673 [============================>.] - ETA: 0s - loss: 0.1931 - acc: 0.9177Epoch 1/25\n",
      " 584/4673 [==>...........................] - ETA: 14:28 - loss: 0.2177 - acc: 0.9036\n",
      "Epoch 00007: loss improved from 0.19929 to 0.19311, saving model to drive/My Drive/inception_resnet_f.model\n",
      "4673/4673 [==============================] - 3469s 742ms/step - loss: 0.1931 - acc: 0.9177 - val_loss: 0.2177 - val_acc: 0.9036\n",
      "Epoch 8/25\n",
      "1652/4673 [=========>....................] - ETA: 35:46 - loss: 0.1872 - acc: 0.919521\n",
      "2363/4673 [==============>...............] - ETA: 27:25 - loss: 0.1880 - acc: 0.919222\n",
      "4621/4673 [============================>.] - ETA: 37s - loss: 0.1885 - acc: 0.919223\n",
      "4672/4673 [============================>.] - ETA: 0s - loss: 0.1886 - acc: 0.9191Epoch 1/25\n",
      " 584/4673 [==>...........................] - ETA: 14:26 - loss: 0.2184 - acc: 0.9033\n",
      "Epoch 00008: loss improved from 0.19311 to 0.18857, saving model to drive/My Drive/inception_resnet_f.model\n",
      "4673/4673 [==============================] - 3467s 742ms/step - loss: 0.1886 - acc: 0.9191 - val_loss: 0.2184 - val_acc: 0.9033\n",
      "Epoch 9/25\n",
      "3737/4673 [======================>.......] - ETA: 11:02 - loss: 0.1848 - acc: 0.920624\n",
      "3775/4673 [=======================>......] - ETA: 10:35 - loss: 0.1849 - acc: 0.920525\n",
      "4648/4673 [============================>.] - ETA: 17s - loss: 0.1839 - acc: 0.921426\n",
      "4672/4673 [============================>.] - ETA: 0s - loss: 0.1839 - acc: 0.9214Epoch 1/25\n",
      " 584/4673 [==>...........................] - ETA: 14:24 - loss: 0.2129 - acc: 0.9062\n",
      "Epoch 00009: loss improved from 0.18857 to 0.18391, saving model to drive/My Drive/inception_resnet_f.model\n",
      "4673/4673 [==============================] - 3440s 736ms/step - loss: 0.1839 - acc: 0.9214 - val_loss: 0.2129 - val_acc: 0.9062\n",
      "Epoch 10/25\n",
      "1856/4673 [==========>...................] - ETA: 33:10 - loss: 0.1838 - acc: 0.922327\n",
      "2182/4673 [=============>................] - ETA: 29:18 - loss: 0.1839 - acc: 0.922428\n",
      "2942/4673 [=================>............] - ETA: 20:22 - loss: 0.1824 - acc: 0.922429\n",
      "4672/4673 [============================>.] - ETA: 0s - loss: 0.1821 - acc: 0.9224Epoch 1/25\n",
      " 584/4673 [==>...........................] - ETA: 14:37 - loss: 0.2097 - acc: 0.9071\n",
      "Epoch 00010: loss improved from 0.18391 to 0.18209, saving model to drive/My Drive/inception_resnet_f.model\n",
      "4673/4673 [==============================] - 3446s 737ms/step - loss: 0.1821 - acc: 0.9224 - val_loss: 0.2097 - val_acc: 0.9071\n",
      "Epoch 11/25\n",
      " 249/4673 [>.............................] - ETA: 52:28 - loss: 0.1810 - acc: 0.924830\n",
      "1360/4673 [=======>......................] - ETA: 39:45 - loss: 0.1755 - acc: 0.925931\n",
      "3738/4673 [======================>.......] - ETA: 11:16 - loss: 0.1776 - acc: 0.923832\n",
      "4672/4673 [============================>.] - ETA: 0s - loss: 0.1784 - acc: 0.9235Epoch 1/25\n",
      " 584/4673 [==>...........................] - ETA: 14:38 - loss: 0.2063 - acc: 0.9085\n",
      "Epoch 00011: loss improved from 0.18209 to 0.17840, saving model to drive/My Drive/inception_resnet_f.model\n",
      "4673/4673 [==============================] - 3516s 752ms/step - loss: 0.1784 - acc: 0.9234 - val_loss: 0.2063 - val_acc: 0.9085\n",
      "Epoch 12/25\n",
      " 917/4673 [====>.........................] - ETA: 45:08 - loss: 0.1717 - acc: 0.9271Buffered data was truncated after reaching the output size limit."
     ]
    }
   ],
   "source": [
    "#Currently not used\n",
    "early_stopping = EarlyStopping(monitor='val_loss',\n",
    "                               min_delta=0,\n",
    "                               patience=2,\n",
    "                               verbose=0, mode='auto')\n",
    "checkpoint = ModelCheckpoint('drive/My Drive/inception_resnet_f.model', monitor='loss', verbose=1, save_best_only=True, mode='min')\n",
    "callbacks_list = [checkpoint]\n",
    "\n",
    "\n",
    "# history = model.fit(X_train, Y_train, batch_size = BATCH_SIZE, epochs = EPOCHS, validation_data = (X_val, Y_val), verbose = 1)\n",
    "H = custom_googleNet_model.fit_generator(\n",
    "\tmy_gen(trainGen),\n",
    "\tsteps_per_epoch=totalTrain // BATCH_SIZE,\n",
    "\tvalidation_data=valGen,\n",
    "\tvalidation_steps=totalVal // BATCH_SIZE,\n",
    "\tepochs=25, verbose = 1, callbacks=callbacks_list)"
   ]
  },
  {
   "cell_type": "code",
   "execution_count": 0,
   "metadata": {
    "colab": {
     "base_uri": "https://localhost:8080/",
     "height": 289
    },
    "colab_type": "code",
    "executionInfo": {
     "elapsed": 4092,
     "status": "ok",
     "timestamp": 1585376718670,
     "user": {
      "displayName": "MohammadHosein NikiMaleki",
      "photoUrl": "",
      "userId": "16008424146546408962"
     },
     "user_tz": -270
    },
    "id": "AMsG2h30ztk-",
    "outputId": "9587e135-4009-4905-b78a-6c85b8195b8d"
   },
   "outputs": [
    {
     "name": "stdout",
     "output_type": "stream",
     "text": [
      "Sat Mar 28 06:25:16 2020       \n",
      "+-----------------------------------------------------------------------------+\n",
      "| NVIDIA-SMI 440.64.00    Driver Version: 418.67       CUDA Version: 10.1     |\n",
      "|-------------------------------+----------------------+----------------------+\n",
      "| GPU  Name        Persistence-M| Bus-Id        Disp.A | Volatile Uncorr. ECC |\n",
      "| Fan  Temp  Perf  Pwr:Usage/Cap|         Memory-Usage | GPU-Util  Compute M. |\n",
      "|===============================+======================+======================|\n",
      "|   0  Tesla P100-PCIE...  Off  | 00000000:00:04.0 Off |                    0 |\n",
      "| N/A   44C    P0    34W / 250W |    865MiB / 16280MiB |      0%      Default |\n",
      "+-------------------------------+----------------------+----------------------+\n",
      "                                                                               \n",
      "+-----------------------------------------------------------------------------+\n",
      "| Processes:                                                       GPU Memory |\n",
      "|  GPU       PID   Type   Process name                             Usage      |\n",
      "|=============================================================================|\n",
      "+-----------------------------------------------------------------------------+\n"
     ]
    }
   ],
   "source": [
    "gpu_info = !nvidia-smi\n",
    "gpu_info = '\\n'.join(gpu_info)\n",
    "if gpu_info.find('failed') >= 0:\n",
    "  print('Select the Runtime → \"Change runtime type\" menu to enable a GPU accelerator, ')\n",
    "  print('and then re-execute this cell.')\n",
    "else:\n",
    "  print(gpu_info)"
   ]
  },
  {
   "cell_type": "code",
   "execution_count": 0,
   "metadata": {
    "colab": {},
    "colab_type": "code",
    "id": "cRjUoIjEvPal"
   },
   "outputs": [],
   "source": []
  }
 ],
 "metadata": {
  "accelerator": "GPU",
  "colab": {
   "authorship_tag": "ABX9TyO8cdzPRtGDcrRINhE1fy6m",
   "collapsed_sections": [],
   "machine_shape": "hm",
   "mount_file_id": "1B_0B69ZLePxQNchmMbYn4y1Gusv6O13I",
   "name": "ResFPlus.ipynb",
   "provenance": []
  },
  "kernelspec": {
   "display_name": "Python 3 (ipykernel)",
   "language": "python",
   "name": "python3"
  },
  "language_info": {
   "codemirror_mode": {
    "name": "ipython",
    "version": 3
   },
   "file_extension": ".py",
   "mimetype": "text/x-python",
   "name": "python",
   "nbconvert_exporter": "python",
   "pygments_lexer": "ipython3",
   "version": "3.8.10"
  }
 },
 "nbformat": 4,
 "nbformat_minor": 1
}
